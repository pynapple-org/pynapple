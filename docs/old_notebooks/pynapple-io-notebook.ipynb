{
 "cells": [
  {
   "cell_type": "markdown",
   "id": "4488a0b0",
   "metadata": {},
   "source": [
    "# IO Tutorial\n",
    "\n",
    "> Warning **This tutorial is still under construction.**\n",
    "\n",
    "This notebook is designed to demonstrate the pynapple IO. It is build around the specifications of the [BIDS standard](https://bids-standard.github.io/bids-starter-kit/index.html) for sharing datasets. The key ideas are summarized as follow :\n",
    "\n",
    "- [Hierarchy of folders](https://bids-standard.github.io/bids-starter-kit/folders_and_files/folders.html)\n",
    "\n",
    "    <img src=\"BIDS_Folders.png\" width=\"500\" height=\"300\" />\n",
    "    \n",
    "- [Filename template](https://bids-standard.github.io/bids-starter-kit/folders_and_files/files.html)\n",
    "\n",
    "    <img src=\"BIDS_Files.png\" width=\"500\" height=\"300\" />\n",
    "\n",
    "- [Metadata files](https://bids-standard.github.io/bids-starter-kit/folders_and_files/metadata.html)\n",
    "    \n",
    "    <img src=\"BIDS_Metadata.png\" width=\"500\" height=\"300\" />\n",
    "\n",
    "\n"
   ]
  },
  {
   "cell_type": "markdown",
   "id": "85440b60",
   "metadata": {},
   "source": [
    "## 1. Navigating a structured dataset\n",
    "\n",
    "The dataset in this example can be found [here](https://www.dropbox.com/s/pr1ze1nuiwk8kw9/MyProject.zip?dl=1)."
   ]
  },
  {
   "cell_type": "code",
   "execution_count": 1,
   "id": "da22da1f",
   "metadata": {},
   "outputs": [
    {
     "data": {
      "text/html": [
       "<pre style=\"white-space:pre;overflow-x:auto;line-height:normal;font-family:Menlo,'DejaVu Sans Mono',consolas,'Courier New',monospace\">📂 MyProject\n",
       "<span style=\"color: #000080; text-decoration-color: #000080\">└── </span>📂 <span style=\"color: #000080; text-decoration-color: #000080\">sub-A2929</span>\n",
       "</pre>\n"
      ],
      "text/plain": [
       "📂 MyProject\n",
       "\u001b[34m└── \u001b[0m📂 \u001b[34msub-A2929\u001b[0m\n"
      ]
     },
     "metadata": {},
     "output_type": "display_data"
    },
    {
     "data": {
      "text/plain": []
     },
     "execution_count": 1,
     "metadata": {},
     "output_type": "execute_result"
    }
   ],
   "source": [
    "import numpy as np\n",
    "import pynapple as nap\n",
    "\n",
    "project_path = '../../your/path/to/MyProject'\n",
    "\n",
    "project = nap.load_folder(project_path)\n",
    "\n",
    "project"
   ]
  },
  {
   "cell_type": "markdown",
   "id": "5c49ddb8",
   "metadata": {},
   "source": [
    "The pynapple IO offers a convenient way of visualizing and navigating a folder based dataset. To visualize the whole hierarchy of Folders, you can call the view property or the expand function."
   ]
  },
  {
   "cell_type": "code",
   "execution_count": 2,
   "id": "bedb9f6e",
   "metadata": {},
   "outputs": [
    {
     "data": {
      "text/html": [
       "<pre style=\"white-space:pre;overflow-x:auto;line-height:normal;font-family:Menlo,'DejaVu Sans Mono',consolas,'Courier New',monospace\">📂 MyProject\n",
       "<span style=\"color: #000080; text-decoration-color: #000080\">└── </span>📂 sub-A2929\n",
       "<span style=\"color: #000080; text-decoration-color: #000080\">    └── </span>📂 A2929-200711\n",
       "<span style=\"color: #000080; text-decoration-color: #000080\">        ├── </span>📂 derivatives\n",
       "<span style=\"color: #000080; text-decoration-color: #000080\">        │   ├── </span><span style=\"color: #008000; text-decoration-color: #008000\">spikes.npz  </span>    <span style=\"color: #008000; text-decoration-color: #008000\">| </span>      <span style=\"color: #008000; text-decoration-color: #008000\"> TsGroup</span>\n",
       "<span style=\"color: #000080; text-decoration-color: #000080\">        │   ├── </span><span style=\"color: #008000; text-decoration-color: #008000\">sleep_ep.npz  </span>  <span style=\"color: #008000; text-decoration-color: #008000\">| </span>      <span style=\"color: #008000; text-decoration-color: #008000\"> IntervalSet</span>\n",
       "<span style=\"color: #000080; text-decoration-color: #000080\">        │   ├── </span><span style=\"color: #008000; text-decoration-color: #008000\">position.npz  </span>  <span style=\"color: #008000; text-decoration-color: #008000\">| </span>      <span style=\"color: #008000; text-decoration-color: #008000\"> TsdFrame</span>\n",
       "<span style=\"color: #000080; text-decoration-color: #000080\">        │   └── </span><span style=\"color: #008000; text-decoration-color: #008000\">wake_ep.npz  </span>   <span style=\"color: #008000; text-decoration-color: #008000\">| </span>      <span style=\"color: #008000; text-decoration-color: #008000\"> IntervalSet</span>\n",
       "<span style=\"color: #000080; text-decoration-color: #000080\">        └── </span>📂 pynapplenwb\n",
       "<span style=\"color: #000080; text-decoration-color: #000080\">            └── </span><span style=\"color: #800080; text-decoration-color: #800080\">A2929-200711.nwb  </span>      <span style=\"color: #800080; text-decoration-color: #800080\">| </span>      <span style=\"color: #800080; text-decoration-color: #800080\"> NWB file</span>\n",
       "</pre>\n"
      ],
      "text/plain": [
       "📂 MyProject\n",
       "\u001b[34m└── \u001b[0m📂 sub-A2929\n",
       "\u001b[34m    \u001b[0m\u001b[34m└── \u001b[0m📂 A2929-200711\n",
       "\u001b[34m    \u001b[0m\u001b[34m    \u001b[0m\u001b[34m├── \u001b[0m📂 derivatives\n",
       "\u001b[34m    \u001b[0m\u001b[34m    \u001b[0m\u001b[34m│   \u001b[0m\u001b[34m├── \u001b[0m\u001b[32mspikes.npz  \u001b[0m    \u001b[32m| \u001b[0m      \u001b[32m TsGroup\u001b[0m\n",
       "\u001b[34m    \u001b[0m\u001b[34m    \u001b[0m\u001b[34m│   \u001b[0m\u001b[34m├── \u001b[0m\u001b[32msleep_ep.npz  \u001b[0m  \u001b[32m| \u001b[0m      \u001b[32m IntervalSet\u001b[0m\n",
       "\u001b[34m    \u001b[0m\u001b[34m    \u001b[0m\u001b[34m│   \u001b[0m\u001b[34m├── \u001b[0m\u001b[32mposition.npz  \u001b[0m  \u001b[32m| \u001b[0m      \u001b[32m TsdFrame\u001b[0m\n",
       "\u001b[34m    \u001b[0m\u001b[34m    \u001b[0m\u001b[34m│   \u001b[0m\u001b[34m└── \u001b[0m\u001b[32mwake_ep.npz  \u001b[0m   \u001b[32m| \u001b[0m      \u001b[32m IntervalSet\u001b[0m\n",
       "\u001b[34m    \u001b[0m\u001b[34m    \u001b[0m\u001b[34m└── \u001b[0m📂 pynapplenwb\n",
       "\u001b[34m    \u001b[0m\u001b[34m    \u001b[0m\u001b[34m    \u001b[0m\u001b[34m└── \u001b[0m\u001b[35mA2929-200711.nwb  \u001b[0m      \u001b[35m| \u001b[0m      \u001b[35m NWB file\u001b[0m\n"
      ]
     },
     "metadata": {},
     "output_type": "display_data"
    }
   ],
   "source": [
    "project.view"
   ]
  },
  {
   "cell_type": "markdown",
   "id": "c0c8e031",
   "metadata": {},
   "source": [
    "Here it shows all the subjects (in this case only A2929), all the sessions and all of the derivatives folders. It shows as well all the NPZ files that contains a pynapple object and the NWB files.\n",
    "\n",
    "The object project behaves like a nested dictionary. It is then easy to loop and navigate through a hierarchy of folders when doing analyses. In this case, we are gonna take only the session A2929-200711."
   ]
  },
  {
   "cell_type": "code",
   "execution_count": 3,
   "id": "c2d3d240",
   "metadata": {},
   "outputs": [
    {
     "data": {
      "text/html": [
       "<pre style=\"white-space:pre;overflow-x:auto;line-height:normal;font-family:Menlo,'DejaVu Sans Mono',consolas,'Courier New',monospace\">📂 A2929-200711\n",
       "<span style=\"color: #000080; text-decoration-color: #000080\">├── </span>📂 <span style=\"color: #000080; text-decoration-color: #000080\">derivatives</span>\n",
       "<span style=\"color: #000080; text-decoration-color: #000080\">└── </span>📂 <span style=\"color: #000080; text-decoration-color: #000080\">pynapplenwb</span>\n",
       "</pre>\n"
      ],
      "text/plain": [
       "📂 A2929-200711\n",
       "\u001b[34m├── \u001b[0m📂 \u001b[34mderivatives\u001b[0m\n",
       "\u001b[34m└── \u001b[0m📂 \u001b[34mpynapplenwb\u001b[0m\n"
      ]
     },
     "metadata": {},
     "output_type": "display_data"
    },
    {
     "data": {
      "text/plain": []
     },
     "execution_count": 3,
     "metadata": {},
     "output_type": "execute_result"
    }
   ],
   "source": [
    "session = project[\"sub-A2929\"][\"A2929-200711\"]\n",
    "\n",
    "session"
   ]
  },
  {
   "cell_type": "markdown",
   "id": "51550c07",
   "metadata": {},
   "source": [
    "I can expand to see what the folders contains."
   ]
  },
  {
   "cell_type": "code",
   "execution_count": 4,
   "id": "0cb5e81b",
   "metadata": {},
   "outputs": [
    {
     "data": {
      "text/html": [
       "<pre style=\"white-space:pre;overflow-x:auto;line-height:normal;font-family:Menlo,'DejaVu Sans Mono',consolas,'Courier New',monospace\">📂 A2929-200711\n",
       "<span style=\"color: #000080; text-decoration-color: #000080\">├── </span>📂 derivatives\n",
       "<span style=\"color: #000080; text-decoration-color: #000080\">│   ├── </span><span style=\"color: #008000; text-decoration-color: #008000\">spikes.npz  </span>    <span style=\"color: #008000; text-decoration-color: #008000\">| </span>      <span style=\"color: #008000; text-decoration-color: #008000\"> TsGroup</span>\n",
       "<span style=\"color: #000080; text-decoration-color: #000080\">│   ├── </span><span style=\"color: #008000; text-decoration-color: #008000\">sleep_ep.npz  </span>  <span style=\"color: #008000; text-decoration-color: #008000\">| </span>      <span style=\"color: #008000; text-decoration-color: #008000\"> IntervalSet</span>\n",
       "<span style=\"color: #000080; text-decoration-color: #000080\">│   ├── </span><span style=\"color: #008000; text-decoration-color: #008000\">position.npz  </span>  <span style=\"color: #008000; text-decoration-color: #008000\">| </span>      <span style=\"color: #008000; text-decoration-color: #008000\"> TsdFrame</span>\n",
       "<span style=\"color: #000080; text-decoration-color: #000080\">│   └── </span><span style=\"color: #008000; text-decoration-color: #008000\">wake_ep.npz  </span>   <span style=\"color: #008000; text-decoration-color: #008000\">| </span>      <span style=\"color: #008000; text-decoration-color: #008000\"> IntervalSet</span>\n",
       "<span style=\"color: #000080; text-decoration-color: #000080\">└── </span>📂 pynapplenwb\n",
       "<span style=\"color: #000080; text-decoration-color: #000080\">    └── </span><span style=\"color: #800080; text-decoration-color: #800080\">A2929-200711.nwb  </span>      <span style=\"color: #800080; text-decoration-color: #800080\">| </span>      <span style=\"color: #800080; text-decoration-color: #800080\"> NWB file</span>\n",
       "</pre>\n"
      ],
      "text/plain": [
       "📂 A2929-200711\n",
       "\u001b[34m├── \u001b[0m📂 derivatives\n",
       "\u001b[34m│   \u001b[0m\u001b[34m├── \u001b[0m\u001b[32mspikes.npz  \u001b[0m    \u001b[32m| \u001b[0m      \u001b[32m TsGroup\u001b[0m\n",
       "\u001b[34m│   \u001b[0m\u001b[34m├── \u001b[0m\u001b[32msleep_ep.npz  \u001b[0m  \u001b[32m| \u001b[0m      \u001b[32m IntervalSet\u001b[0m\n",
       "\u001b[34m│   \u001b[0m\u001b[34m├── \u001b[0m\u001b[32mposition.npz  \u001b[0m  \u001b[32m| \u001b[0m      \u001b[32m TsdFrame\u001b[0m\n",
       "\u001b[34m│   \u001b[0m\u001b[34m└── \u001b[0m\u001b[32mwake_ep.npz  \u001b[0m   \u001b[32m| \u001b[0m      \u001b[32m IntervalSet\u001b[0m\n",
       "\u001b[34m└── \u001b[0m📂 pynapplenwb\n",
       "\u001b[34m    \u001b[0m\u001b[34m└── \u001b[0m\u001b[35mA2929-200711.nwb  \u001b[0m      \u001b[35m| \u001b[0m      \u001b[35m NWB file\u001b[0m\n"
      ]
     },
     "metadata": {},
     "output_type": "display_data"
    }
   ],
   "source": [
    "session.expand()"
   ]
  },
  {
   "cell_type": "markdown",
   "id": "af3e864f",
   "metadata": {},
   "source": [
    "## 2. Loading files\n",
    "\n",
    "By default, pynapple save objects as NPZ. It is a convenient way to save all the properties of an object such as the time support. The pynapple IO offers an easy way to load any NPZ files that matches the structures defined for a pynapple object."
   ]
  },
  {
   "cell_type": "code",
   "execution_count": 5,
   "id": "62543c4f",
   "metadata": {},
   "outputs": [],
   "source": [
    "spikes = session[\"derivatives\"][\"spikes\"]\n",
    "position = session[\"derivatives\"][\"position\"]\n",
    "wake_ep = session[\"derivatives\"][\"wake_ep\"]\n",
    "sleep_ep = session[\"derivatives\"][\"sleep_ep\"]"
   ]
  },
  {
   "cell_type": "markdown",
   "id": "9d559f0f",
   "metadata": {},
   "source": [
    "Objects are only loaded when they are called."
   ]
  },
  {
   "cell_type": "code",
   "execution_count": 6,
   "id": "c6ae1e40",
   "metadata": {},
   "outputs": [
    {
     "name": "stdout",
     "output_type": "stream",
     "text": [
      "  Index    rate    group  location\n",
      "-------  ------  -------  ----------\n",
      "      0    7.3         0  adn\n",
      "      1    5.73        0  adn\n",
      "      2    8.12        0  adn\n",
      "      3    6.68        0  adn\n",
      "      4   10.77        0  adn\n",
      "      5   11           0  adn\n",
      "      6   16.52        0  adn\n",
      "      7    2.2         1  ca1\n",
      "      8    2.02        1  ca1\n",
      "      9    1.07        1  ca1\n",
      "     10    3.92        1  ca1\n",
      "     11    3.31        1  ca1\n",
      "     12    1.09        1  ca1\n",
      "     13    1.28        1  ca1\n",
      "     14    1.32        1  ca1\n"
     ]
    }
   ],
   "source": [
    "print(session[\"derivatives\"][\"spikes\"])"
   ]
  },
  {
   "cell_type": "markdown",
   "id": "e5da346b",
   "metadata": {},
   "source": [
    "## 3. Metadata\n",
    "\n",
    "A good practice for sharing datasets is to write as many metainformation as possible. Following BIDS specifications, any data files should be accompagned by a JSON sidecar file. "
   ]
  },
  {
   "cell_type": "code",
   "execution_count": 7,
   "id": "9a1b9c59",
   "metadata": {},
   "outputs": [
    {
     "name": "stdout",
     "output_type": "stream",
     "text": [
      "wake_ep.json\n",
      "position.json\n",
      "sleep_ep.json\n",
      "spikes.npz\n",
      "sleep_ep.npz\n",
      "spikes.json\n",
      "position.npz\n",
      "wake_ep.npz\n"
     ]
    }
   ],
   "source": [
    "import os\n",
    "for f in os.listdir(session['derivatives'].path):\n",
    "    print(f)"
   ]
  },
  {
   "cell_type": "markdown",
   "id": "2c2ccfde",
   "metadata": {},
   "source": [
    "To read the metainformation associated with a file, you can use the functions _doc_,_info_ or _metadata_ : "
   ]
  },
  {
   "cell_type": "code",
   "execution_count": 8,
   "id": "38c33d45",
   "metadata": {},
   "outputs": [
    {
     "data": {
      "text/html": [
       "<pre style=\"white-space:pre;overflow-x:auto;line-height:normal;font-family:Menlo,'DejaVu Sans Mono',consolas,'Courier New',monospace\"><span style=\"color: #008000; text-decoration-color: #008000\">╭─ ../../your/path/to/MyProject/sub-A2929/A2929-200711/derivatives/spikes.npz ─╮</span>\n",
       "<span style=\"color: #008000; text-decoration-color: #008000\">│</span> time : 2023-07-11 12:40:10.338066                                            <span style=\"color: #008000; text-decoration-color: #008000\">│</span>\n",
       "<span style=\"color: #008000; text-decoration-color: #008000\">│</span> info : Neurons recorded simultaneously in ADN and CA1                        <span style=\"color: #008000; text-decoration-color: #008000\">│</span>\n",
       "<span style=\"color: #008000; text-decoration-color: #008000\">╰──────────────────────────────────────────────────────────────────────────────╯</span>\n",
       "</pre>\n"
      ],
      "text/plain": [
       "\u001b[32m╭─\u001b[0m\u001b[32m ../../your/path/to/MyProject/sub-A2929/A2929-200711/derivatives/spikes.npz \u001b[0m\u001b[32m─╮\u001b[0m\n",
       "\u001b[32m│\u001b[0m time : 2023-07-11 12:40:10.338066                                            \u001b[32m│\u001b[0m\n",
       "\u001b[32m│\u001b[0m info : Neurons recorded simultaneously in ADN and CA1                        \u001b[32m│\u001b[0m\n",
       "\u001b[32m╰──────────────────────────────────────────────────────────────────────────────╯\u001b[0m\n"
      ]
     },
     "metadata": {},
     "output_type": "display_data"
    }
   ],
   "source": [
    "session['derivatives'].doc(\"spikes\")"
   ]
  },
  {
   "cell_type": "code",
   "execution_count": 9,
   "id": "2ea1ab4b",
   "metadata": {},
   "outputs": [
    {
     "data": {
      "text/html": [
       "<pre style=\"white-space:pre;overflow-x:auto;line-height:normal;font-family:Menlo,'DejaVu Sans Mono',consolas,'Courier New',monospace\"><span style=\"color: #008000; text-decoration-color: #008000\">╭─ ../../your/path/to/MyProject/sub-A2929/A2929-200711/derivatives/position.npz ─╮</span>\n",
       "<span style=\"color: #008000; text-decoration-color: #008000\">│</span> time : 2023-07-11 12:40:10.364061                                              <span style=\"color: #008000; text-decoration-color: #008000\">│</span>\n",
       "<span style=\"color: #008000; text-decoration-color: #008000\">│</span> info : Position and head-direction of the mouse recorded with Optitrack        <span style=\"color: #008000; text-decoration-color: #008000\">│</span>\n",
       "<span style=\"color: #008000; text-decoration-color: #008000\">╰────────────────────────────────────────────────────────────────────────────────╯</span>\n",
       "</pre>\n"
      ],
      "text/plain": [
       "\u001b[32m╭─\u001b[0m\u001b[32m ../../your/path/to/MyProject/sub-A2929/A2929-200711/derivatives/position.npz \u001b[0m\u001b[32m─╮\u001b[0m\n",
       "\u001b[32m│\u001b[0m time : 2023-07-11 12:40:10.364061                                              \u001b[32m│\u001b[0m\n",
       "\u001b[32m│\u001b[0m info : Position and head-direction of the mouse recorded with Optitrack        \u001b[32m│\u001b[0m\n",
       "\u001b[32m╰────────────────────────────────────────────────────────────────────────────────╯\u001b[0m\n"
      ]
     },
     "metadata": {},
     "output_type": "display_data"
    }
   ],
   "source": [
    "session['derivatives'].doc(\"position\")"
   ]
  },
  {
   "cell_type": "markdown",
   "id": "dbb479ec",
   "metadata": {},
   "source": [
    "## 4. Saving a pynapple object.\n",
    "\n",
    "In this case, we define a new Tsd and a new IntervalSet that we would like to save in the session folder."
   ]
  },
  {
   "cell_type": "code",
   "execution_count": 10,
   "id": "c444a916",
   "metadata": {},
   "outputs": [],
   "source": [
    "tsd = position['x'] + position['y']\n",
    "epoch = nap.IntervalSet(start=np.array([0, 3]), end = np.array([1, 6]))\n",
    "\n",
    "session.save(\"x_plus_y\", tsd, description = \"Random position\")\n",
    "session.save(\"stimulus-fish\", epoch, description = \"Fish pictures to V1\")"
   ]
  },
  {
   "cell_type": "markdown",
   "id": "af256df1",
   "metadata": {},
   "source": [
    "We can visualize the newly saved objects."
   ]
  },
  {
   "cell_type": "code",
   "execution_count": 11,
   "id": "e66c7303",
   "metadata": {},
   "outputs": [
    {
     "data": {
      "text/html": [
       "<pre style=\"white-space:pre;overflow-x:auto;line-height:normal;font-family:Menlo,'DejaVu Sans Mono',consolas,'Courier New',monospace\">📂 A2929-200711\n",
       "<span style=\"color: #000080; text-decoration-color: #000080\">├── </span>📂 derivatives\n",
       "<span style=\"color: #000080; text-decoration-color: #000080\">│   ├── </span><span style=\"color: #008000; text-decoration-color: #008000\">spikes.npz  </span>    <span style=\"color: #008000; text-decoration-color: #008000\">| </span>      <span style=\"color: #008000; text-decoration-color: #008000\"> TsGroup</span>\n",
       "<span style=\"color: #000080; text-decoration-color: #000080\">│   ├── </span><span style=\"color: #008000; text-decoration-color: #008000\">sleep_ep.npz  </span>  <span style=\"color: #008000; text-decoration-color: #008000\">| </span>      <span style=\"color: #008000; text-decoration-color: #008000\"> IntervalSet</span>\n",
       "<span style=\"color: #000080; text-decoration-color: #000080\">│   ├── </span><span style=\"color: #008000; text-decoration-color: #008000\">position.npz  </span>  <span style=\"color: #008000; text-decoration-color: #008000\">| </span>      <span style=\"color: #008000; text-decoration-color: #008000\"> TsdFrame</span>\n",
       "<span style=\"color: #000080; text-decoration-color: #000080\">│   └── </span><span style=\"color: #008000; text-decoration-color: #008000\">wake_ep.npz  </span>   <span style=\"color: #008000; text-decoration-color: #008000\">| </span>      <span style=\"color: #008000; text-decoration-color: #008000\"> IntervalSet</span>\n",
       "<span style=\"color: #000080; text-decoration-color: #000080\">├── </span>📂 pynapplenwb\n",
       "<span style=\"color: #000080; text-decoration-color: #000080\">│   └── </span><span style=\"color: #800080; text-decoration-color: #800080\">A2929-200711.nwb  </span>      <span style=\"color: #800080; text-decoration-color: #800080\">| </span>      <span style=\"color: #800080; text-decoration-color: #800080\"> NWB file</span>\n",
       "<span style=\"color: #000080; text-decoration-color: #000080\">├── </span><span style=\"color: #008000; text-decoration-color: #008000\">x_plus_y.npz  </span>  <span style=\"color: #008000; text-decoration-color: #008000\">| </span>      <span style=\"color: #008000; text-decoration-color: #008000\"> Tsd</span>\n",
       "<span style=\"color: #000080; text-decoration-color: #000080\">└── </span><span style=\"color: #008000; text-decoration-color: #008000\">stimulus-fish.npz  </span>     <span style=\"color: #008000; text-decoration-color: #008000\">| </span>      <span style=\"color: #008000; text-decoration-color: #008000\"> IntervalSet</span>\n",
       "</pre>\n"
      ],
      "text/plain": [
       "📂 A2929-200711\n",
       "\u001b[34m├── \u001b[0m📂 derivatives\n",
       "\u001b[34m│   \u001b[0m\u001b[34m├── \u001b[0m\u001b[32mspikes.npz  \u001b[0m    \u001b[32m| \u001b[0m      \u001b[32m TsGroup\u001b[0m\n",
       "\u001b[34m│   \u001b[0m\u001b[34m├── \u001b[0m\u001b[32msleep_ep.npz  \u001b[0m  \u001b[32m| \u001b[0m      \u001b[32m IntervalSet\u001b[0m\n",
       "\u001b[34m│   \u001b[0m\u001b[34m├── \u001b[0m\u001b[32mposition.npz  \u001b[0m  \u001b[32m| \u001b[0m      \u001b[32m TsdFrame\u001b[0m\n",
       "\u001b[34m│   \u001b[0m\u001b[34m└── \u001b[0m\u001b[32mwake_ep.npz  \u001b[0m   \u001b[32m| \u001b[0m      \u001b[32m IntervalSet\u001b[0m\n",
       "\u001b[34m├── \u001b[0m📂 pynapplenwb\n",
       "\u001b[34m│   \u001b[0m\u001b[34m└── \u001b[0m\u001b[35mA2929-200711.nwb  \u001b[0m      \u001b[35m| \u001b[0m      \u001b[35m NWB file\u001b[0m\n",
       "\u001b[34m├── \u001b[0m\u001b[32mx_plus_y.npz  \u001b[0m  \u001b[32m| \u001b[0m      \u001b[32m Tsd\u001b[0m\n",
       "\u001b[34m└── \u001b[0m\u001b[32mstimulus-fish.npz  \u001b[0m     \u001b[32m| \u001b[0m      \u001b[32m IntervalSet\u001b[0m\n"
      ]
     },
     "metadata": {},
     "output_type": "display_data"
    }
   ],
   "source": [
    "session.expand()"
   ]
  },
  {
   "cell_type": "code",
   "execution_count": 16,
   "id": "a62646d1",
   "metadata": {},
   "outputs": [
    {
     "data": {
      "text/html": [
       "<pre style=\"white-space:pre;overflow-x:auto;line-height:normal;font-family:Menlo,'DejaVu Sans Mono',consolas,'Courier New',monospace\"><span style=\"color: #008000; text-decoration-color: #008000\">╭─ ../../your/path/to/MyProject/sub-A2929/A2929-200711/stimulus-fish.npz ─╮</span>\n",
       "<span style=\"color: #008000; text-decoration-color: #008000\">│</span> time : 2023-07-11 13:32:01.692966                                       <span style=\"color: #008000; text-decoration-color: #008000\">│</span>\n",
       "<span style=\"color: #008000; text-decoration-color: #008000\">│</span> info : Fish pictures to V1                                              <span style=\"color: #008000; text-decoration-color: #008000\">│</span>\n",
       "<span style=\"color: #008000; text-decoration-color: #008000\">╰─────────────────────────────────────────────────────────────────────────╯</span>\n",
       "</pre>\n"
      ],
      "text/plain": [
       "\u001b[32m╭─\u001b[0m\u001b[32m ../../your/path/to/MyProject/sub-A2929/A2929-200711/stimulus-fish.npz \u001b[0m\u001b[32m─╮\u001b[0m\n",
       "\u001b[32m│\u001b[0m time : 2023-07-11 13:32:01.692966                                       \u001b[32m│\u001b[0m\n",
       "\u001b[32m│\u001b[0m info : Fish pictures to V1                                              \u001b[32m│\u001b[0m\n",
       "\u001b[32m╰─────────────────────────────────────────────────────────────────────────╯\u001b[0m\n"
      ]
     },
     "metadata": {},
     "output_type": "display_data"
    }
   ],
   "source": [
    "session.doc('stimulus-fish')"
   ]
  },
  {
   "cell_type": "code",
   "execution_count": 17,
   "id": "2d16a937",
   "metadata": {},
   "outputs": [
    {
     "data": {
      "text/plain": [
       "Time (s)\n",
       "670.64070     0.382166\n",
       "670.64900     0.380987\n",
       "670.65735     0.379844\n",
       "670.66565     0.378787\n",
       "670.67400     0.377807\n",
       "                ...   \n",
       "1199.96160    0.049132\n",
       "1199.96995    0.049651\n",
       "1199.97825    0.050196\n",
       "1199.98660    0.050725\n",
       "1199.99495    0.051192\n",
       "Length: 63527, dtype: float64"
      ]
     },
     "execution_count": 17,
     "metadata": {},
     "output_type": "execute_result"
    }
   ],
   "source": [
    "session['x_plus_y']"
   ]
  }
 ],
 "metadata": {
  "kernelspec": {
   "display_name": "Python 3 (ipykernel)",
   "language": "python",
   "name": "python3"
  },
  "language_info": {
   "codemirror_mode": {
    "name": "ipython",
    "version": 3
   },
   "file_extension": ".py",
   "mimetype": "text/x-python",
   "name": "python",
   "nbconvert_exporter": "python",
   "pygments_lexer": "ipython3",
   "version": "3.9.15"
  }
 },
 "nbformat": 4,
 "nbformat_minor": 5
}
